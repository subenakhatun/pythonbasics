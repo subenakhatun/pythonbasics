{
 "cells": [
  {
   "cell_type": "markdown",
   "id": "efc44577",
   "metadata": {},
   "source": [
    "#  Topic cover:\n",
    "1. python range\n",
    "2. **arg and ***keyargs in python\n",
    "3. Python closures\n",
    "4. python self dafault argumnet\n",
    "5. Decorators in python\n",
    "6. map function\n",
    "7. Filter Function\n",
    "8. Reduce function\n",
    "9. lambda function\n",
    "10. Recursion Function\n",
    "11. anonymous function\n",
    "12. global, local and non local \n",
    "13. python global keyword\n",
    "14. python modulus\n",
    "16. python package"
   ]
  },
  {
   "cell_type": "markdown",
   "id": "617b2e95",
   "metadata": {},
   "source": [
    "#  1. Python range() function\n",
    "The Python range() function returns a sequence of numbers, in a given range. The most common use of it is to iterate sequences on a sequence of numbers using Python loops.\n",
    "* Python range (start, stop, step)"
   ]
  },
  {
   "cell_type": "code",
   "execution_count": 1,
   "id": "044b6d7c",
   "metadata": {},
   "outputs": [
    {
     "name": "stdout",
     "output_type": "stream",
     "text": [
      "0\n",
      "1\n",
      "2\n",
      "3\n",
      "4\n",
      "5\n",
      "6\n",
      "7\n",
      "8\n",
      "9\n"
     ]
    }
   ],
   "source": [
    "# print 0 to 10 number using range\n",
    "for i in range(10):\n",
    "    print(i)"
   ]
  },
  {
   "cell_type": "code",
   "execution_count": 2,
   "id": "0f95b9e7",
   "metadata": {},
   "outputs": [
    {
     "name": "stdout",
     "output_type": "stream",
     "text": [
      "0,1,2,3,4,5,6,7,8,9,"
     ]
    }
   ],
   "source": [
    "for i in range(10):\n",
    "    print(i, end=\",\")"
   ]
  },
  {
   "cell_type": "code",
   "execution_count": 4,
   "id": "e039bef4",
   "metadata": {},
   "outputs": [
    {
     "name": "stdout",
     "output_type": "stream",
     "text": [
      "5 6 7 8 9 10 11 12 13 14 15 16 17 18 "
     ]
    }
   ],
   "source": [
    "# printing the number from 5 to 19\n",
    "for i in range(5,19):\n",
    "    print(i, end=\" \")"
   ]
  },
  {
   "cell_type": "code",
   "execution_count": 5,
   "id": "d2e307da",
   "metadata": {},
   "outputs": [
    {
     "name": "stdout",
     "output_type": "stream",
     "text": [
      "0 2 4 6 8 "
     ]
    }
   ],
   "source": [
    "# printing the number from 0 to 9 with the jump of 2\n",
    "for i in range(0,9,2):\n",
    "    print(i, end=\" \")"
   ]
  },
  {
   "cell_type": "code",
   "execution_count": 6,
   "id": "871f26ac",
   "metadata": {},
   "outputs": [
    {
     "name": "stdout",
     "output_type": "stream",
     "text": [
      "0 4 8 12 16 "
     ]
    }
   ],
   "source": [
    "# Incrementing the Range using a Positive Step \n",
    "for i in range(0,20,4):\n",
    "    print(i, end=\" \")"
   ]
  },
  {
   "cell_type": "code",
   "execution_count": 9,
   "id": "dedceb72",
   "metadata": {},
   "outputs": [
    {
     "name": "stdout",
     "output_type": "stream",
     "text": [
      "20 16 12 8 4 "
     ]
    }
   ],
   "source": [
    "# Python range() using Negative Step\n",
    "for i in range(20,2,-4):\n",
    "    print(i, end=\" \")"
   ]
  },
  {
   "cell_type": "code",
   "execution_count": 10,
   "id": "2f579298",
   "metadata": {},
   "outputs": [
    {
     "ename": "TypeError",
     "evalue": "'float' object cannot be interpreted as an integer",
     "output_type": "error",
     "traceback": [
      "\u001b[1;31m---------------------------------------------------------------------------\u001b[0m",
      "\u001b[1;31mTypeError\u001b[0m                                 Traceback (most recent call last)",
      "Cell \u001b[1;32mIn[10], line 2\u001b[0m\n\u001b[0;32m      1\u001b[0m \u001b[38;5;66;03m# Python range() with Float Values\u001b[39;00m\n\u001b[1;32m----> 2\u001b[0m \u001b[38;5;28;01mfor\u001b[39;00m i \u001b[38;5;129;01min\u001b[39;00m \u001b[38;5;28mrange\u001b[39m(\u001b[38;5;241m4.6\u001b[39m):\n\u001b[0;32m      3\u001b[0m      \u001b[38;5;28mprint\u001b[39m(i, end\u001b[38;5;241m=\u001b[39m\u001b[38;5;124m\"\u001b[39m\u001b[38;5;124m \u001b[39m\u001b[38;5;124m\"\u001b[39m)\n",
      "\u001b[1;31mTypeError\u001b[0m: 'float' object cannot be interpreted as an integer"
     ]
    }
   ],
   "source": [
    "# Python range() with Float Values\n",
    "for i in range(4.6):\n",
    "     print(i, end=\" \")"
   ]
  },
  {
   "cell_type": "code",
   "execution_count": 13,
   "id": "e64a7039",
   "metadata": {},
   "outputs": [
    {
     "name": "stdout",
     "output_type": "stream",
     "text": [
      "Apple,Banana,Mango,Grapes,Papaya,Coconut,Guava,Orange,Pineapple,Watermelon,"
     ]
    }
   ],
   "source": [
    "# range() function with List in Pytho\n",
    "fruits = [\"Apple\",\"Banana\",\"Mango\",\"Grapes\",\"Papaya\",\"Coconut\",\"Guava\",\"Orange\",\"Pineapple\",\"Watermelon\"]\n",
    "for fruit in fruits:\n",
    "    print(fruit, end=\",\")"
   ]
  },
  {
   "cell_type": "code",
   "execution_count": 17,
   "id": "cc401fa8",
   "metadata": {},
   "outputs": [
    {
     "name": "stdout",
     "output_type": "stream",
     "text": [
      "0 Apple\n",
      "1 Banana\n",
      "2 Mango\n",
      "3 Grapes\n",
      "4 Papaya\n",
      "5 Coconut\n",
      "6 Guava\n",
      "7 Orange\n",
      "8 Pineapple\n",
      "9 Watermelon\n"
     ]
    }
   ],
   "source": [
    "# using range with len()\n",
    "for fruit in range(len(fruits)):\n",
    "    print(fruit, fruits[fruit])"
   ]
  },
  {
   "cell_type": "code",
   "execution_count": 18,
   "id": "7fa9ff6c",
   "metadata": {},
   "outputs": [
    {
     "name": "stdout",
     "output_type": "stream",
     "text": [
      "2\n"
     ]
    }
   ],
   "source": [
    "# Accessing range() with an Index Value\n",
    "ran = range(10)[2]\n",
    "print(ran)"
   ]
  },
  {
   "cell_type": "code",
   "execution_count": 20,
   "id": "50727585",
   "metadata": {},
   "outputs": [
    {
     "name": "stdout",
     "output_type": "stream",
     "text": [
      "7\n"
     ]
    }
   ],
   "source": [
    "ran = range(10)[-3]\n",
    "print(ran)"
   ]
  },
  {
   "cell_type": "markdown",
   "id": "241385ef",
   "metadata": {},
   "source": [
    "# 2. *args and **kwargs in Python\n",
    "1. *args (Non-Keyword Arguments)\n",
    "2. **kwargs (Keyword Arguments)\n",
    "\n",
    "3. *args receives arguments as a tuple.\n",
    "4. **kwargs receives arguments as a dictionary."
   ]
  },
  {
   "cell_type": "code",
   "execution_count": 21,
   "id": "7300870b",
   "metadata": {},
   "outputs": [
    {
     "name": "stdout",
     "output_type": "stream",
     "text": [
      "banana\n",
      "apple\n",
      "orange\n",
      "guwava\n"
     ]
    }
   ],
   "source": [
    "# Python program to illustrate *args for a variable number of arguments\n",
    "def fruits(*args):\n",
    "    for fruit in args:\n",
    "        print(fruit)\n",
    "fruits(\"banana\",\"apple\",\"orange\",\"guwava\")"
   ]
  },
  {
   "cell_type": "code",
   "execution_count": 25,
   "id": "beaa3af9",
   "metadata": {},
   "outputs": [
    {
     "name": "stdout",
     "output_type": "stream",
     "text": [
      "First arguments:  banana\n",
      "apple , orange , guwava , "
     ]
    }
   ],
   "source": [
    "# Python program to illustrate *args with a first extra argument\n",
    "def argumnets(arg1, *args):\n",
    "    print(\"First arguments: \", arg1)\n",
    "    for arg in args:\n",
    "        print(arg, end=\" , \")\n",
    "argumnets(\"banana\",\"apple\",\"orange\",\"guwava\")"
   ]
  },
  {
   "cell_type": "code",
   "execution_count": 32,
   "id": "29b8793c",
   "metadata": {},
   "outputs": [
    {
     "name": "stdout",
     "output_type": "stream",
     "text": [
      "a = subena\n",
      "b = duha\n",
      "c = farzana\n"
     ]
    }
   ],
   "source": [
    "# Python program to illustrate *kwargs for a variable number of keyword arguments.\n",
    "def keywordargs(**keyargs):\n",
    "    for key,value in keyargs.items():\n",
    "        print(key,'=', value)\n",
    "keywordargs(a=\"subena\", b=\"duha\", c='farzana')"
   ]
  },
  {
   "cell_type": "code",
   "execution_count": 34,
   "id": "94f1efc2",
   "metadata": {},
   "outputs": [
    {
     "name": "stdout",
     "output_type": "stream",
     "text": [
      "First arguments:  subena\n",
      "b = duha\n",
      "c = farzana\n",
      "d = dhoha\n",
      "e = rahena\n",
      "f = shuli\n"
     ]
    }
   ],
   "source": [
    "# Python program to illustrate  **kwargs for a variable number of keyword arguments with one extra argument.\n",
    "def keywordargs(arg1,**keyargs):\n",
    "    print(\"First arguments: \", arg1)\n",
    "    for key,value in keyargs.items():\n",
    "        print(key,'=', value)\n",
    "keywordargs(\"subena\", b=\"duha\", c='farzana', d=\"dhoha\", e=\"rahena\", f=\"shuli\")"
   ]
  },
  {
   "cell_type": "markdown",
   "id": "a9800be7",
   "metadata": {},
   "source": [
    "# Using both *args and **kwargs in Python to call a function"
   ]
  },
  {
   "cell_type": "code",
   "execution_count": 50,
   "id": "356d9efb",
   "metadata": {},
   "outputs": [
    {
     "name": "stdout",
     "output_type": "stream",
     "text": [
      "Argument 1: Apple\n",
      "Argument 2: Banana\n",
      "Argument 3: Mango\n",
      "Argument 4: Grapes\n",
      "\n",
      "\n",
      "Argument 1: Apple\n",
      "Argument 2: Banana\n",
      "Argument 3: Mango\n",
      "Argument 4: Grapes\n"
     ]
    }
   ],
   "source": [
    "# Here, we are passing *args and **kwargs as an argument in the myFun function.\n",
    "def myFunction(arg1,arg2,arg3,arg4):\n",
    "    print(\"Argument 1:\", arg1)\n",
    "    print(\"Argument 2:\", arg2)\n",
    "    print(\"Argument 3:\", arg3)\n",
    "    print(\"Argument 4:\", arg4)\n",
    "fruits = [\"Apple\",\"Banana\",\"Mango\",\"Grapes\"]\n",
    "myFunction(*fruits)\n",
    "print(\"\\n\")\n",
    "fruit = {\"arg1\": \"Apple\", \"arg2\": \"Banana\", \"arg3\": \"Mango\", \"arg4\": \"Grapes\"}\n",
    "myFunction(**fruit)"
   ]
  },
  {
   "cell_type": "code",
   "execution_count": 51,
   "id": "b748d7c7",
   "metadata": {},
   "outputs": [
    {
     "name": "stdout",
     "output_type": "stream",
     "text": [
      "argment =  ('arg1', 'arg2', 'arg3')\n",
      "keyword =  {'arg1': 'subena', 'arg2': 'Dhoha', 'arg3': 'unknown'}\n"
     ]
    }
   ],
   "source": [
    "# Here, we are passing *args and **kwargs as an argument in the myFun function. \n",
    "def check(*args, **kewargs):\n",
    "    print(\"argment = \", args)\n",
    "    print(\"keyword = \", kewargs)\n",
    "check(\"arg1\", \"arg2\", \"arg3\", arg1 = \"subena\", arg2 = \"Dhoha\", arg3 = \"unknown\")"
   ]
  },
  {
   "cell_type": "code",
   "execution_count": 52,
   "id": "51950933",
   "metadata": {},
   "outputs": [],
   "source": [
    "# Using *args and **kwargs in Python to set values of object\n",
    "# don't know. when i complete object the start do in this section"
   ]
  },
  {
   "cell_type": "markdown",
   "id": "043b9ff2",
   "metadata": {},
   "source": [
    "# 3. Python closures\n",
    "* Before seeing what a closure is, we have to first understand what nested functions and non-local variables are. \n",
    "### Nested functions in Python\n",
    "A function that is defined inside another function is known as a nested function. Nested functions are able to access variables of the enclosing scope. "
   ]
  },
  {
   "cell_type": "code",
   "execution_count": 56,
   "id": "10c4cbd0",
   "metadata": {},
   "outputs": [
    {
     "name": "stdout",
     "output_type": "stream",
     "text": [
      "Subena\n"
     ]
    }
   ],
   "source": [
    "def outerFuntion(a):\n",
    "    def innerFunction():\n",
    "        print(a)\n",
    "    innerFunction() # innerfunction call na korle print hobe na.\n",
    "if __name__ == '__main__':\n",
    "    outerFuntion(\"Subena\")"
   ]
  },
  {
   "cell_type": "markdown",
   "id": "a51c0734",
   "metadata": {},
   "source": [
    "## What are Python Closures\n",
    "A Closure in Python is a function object that remembers values in enclosing scopes even if they are not present in memory. \n",
    "\n",
    "* It is a record that stores a function together with an environment: a mapping associating each free variable of the function (variables that are used locally but defined in an enclosing scope) with the value or reference to which the name was bound when the closure was created.\n",
    "* A closure—unlike a plain function—allows the function to access those captured variables through the closure’s copies of their values or references, even when the function is invoked outside their scope."
   ]
  },
  {
   "cell_type": "markdown",
   "id": "0e49176b",
   "metadata": {},
   "source": [
    "## 5. Decorators in python\n",
    "* A function is an instance of the Object type.\n",
    "* You can store the function in a variable.\n",
    "* You can pass the function as a parameter to another function.\n",
    "* You can return the function from a function.\n",
    "* You can store them in data structures such as hash tables, lists, …"
   ]
  },
  {
   "cell_type": "code",
   "execution_count": 57,
   "id": "053b6e74",
   "metadata": {},
   "outputs": [
    {
     "name": "stdout",
     "output_type": "stream",
     "text": [
      "HELLO\n"
     ]
    }
   ],
   "source": [
    "# Treating the functions as objects. \n",
    "def shout(text): \n",
    "    return text.upper() \n",
    " \n",
    "# print(shout('Hello')) \n",
    " \n",
    "yell = shout \n",
    " \n",
    "print(yell('Hello')) "
   ]
  },
  {
   "cell_type": "code",
   "execution_count": 58,
   "id": "71065ec5",
   "metadata": {},
   "outputs": [
    {
     "name": "stdout",
     "output_type": "stream",
     "text": [
      "HI, I AM CREATED BY A FUNCTION PASSED AS AN ARGUMENT.\n",
      "hi, i am created by a function passed as an argument.\n"
     ]
    }
   ],
   "source": [
    "# Passing the function as an argument \n",
    "# Python program to illustrate functions \n",
    "# can be passed as arguments to other functions \n",
    "# first function\n",
    "def shout(text): \n",
    "    return text.upper() \n",
    "# second function\n",
    "def whisper(text): \n",
    "    return text.lower() \n",
    "# third function\n",
    "def greet(func): \n",
    "    # storing the function in a variable \n",
    "    greeting = func(\"\"\"Hi, I am created by a function passed as an argument.\"\"\") \n",
    "    print (greeting)\n",
    "    \n",
    "# funtion into function\n",
    "greet(shout) \n",
    "greet(whisper) "
   ]
  },
  {
   "cell_type": "code",
   "execution_count": 59,
   "id": "062a6ffa",
   "metadata": {},
   "outputs": [
    {
     "name": "stdout",
     "output_type": "stream",
     "text": [
      "Printing from parent()\n",
      "Printing from scond child\n",
      "Printing from first child\n"
     ]
    }
   ],
   "source": [
    "# inner function\n",
    "def parent():\n",
    "    print(\"Printing from parent()\")\n",
    "    def firstChild():\n",
    "        print(\"Printing from first child\")\n",
    "    def secondChild():\n",
    "        print(\"Printing from scond child\")\n",
    "    secondChild() # print child child first then first child value\n",
    "    firstChild()\n",
    "parent()"
   ]
  },
  {
   "cell_type": "code",
   "execution_count": 67,
   "id": "14ee6e27",
   "metadata": {},
   "outputs": [
    {
     "data": {
      "text/plain": [
       "'PLease call me Mother of  Dhoha'"
      ]
     },
     "execution_count": 67,
     "metadata": {},
     "output_type": "execute_result"
    }
   ],
   "source": [
    "# Function as Return value: for more clear understandin please see your hand note in the notebook\n",
    "def parent(num):\n",
    "    def firstChild():\n",
    "        return \"Hi! I am Subena\"\n",
    "    def secondChild():\n",
    "        return \"PLease call me Mother of  Dhoha\"\n",
    "    if num == 1:\n",
    "        return firstChild()\n",
    "    else:\n",
    "        return secondChild()\n",
    "first = parent(1)\n",
    "second = parent(2)\n",
    "parent(1)\n",
    "parent(2)"
   ]
  },
  {
   "cell_type": "code",
   "execution_count": 68,
   "id": "1f93b2f0",
   "metadata": {},
   "outputs": [
    {
     "name": "stdout",
     "output_type": "stream",
     "text": [
      "Somethng is happening before the function is called\n",
      "Whee!\n",
      "Something is happening after the function is called\n"
     ]
    }
   ],
   "source": [
    "# Simple Decorators in python:\n",
    "def decorator(variableAsAfunction):\n",
    "    def wrapper():\n",
    "        print(\"Somethng is happening before the function is called\")\n",
    "        variableAsAfunction() # called varaible as a function. or pass a function as a varaible then called this varaible as a function\n",
    "        print(\"Something is happening after the function is called\")\n",
    "    return wrapper()\n",
    "\n",
    "def syaWhee():\n",
    "    print(\"Whee!\")\n",
    "sayWhee = decorator(syaWhee)"
   ]
  },
  {
   "cell_type": "code",
   "execution_count": 70,
   "id": "1ccb971e",
   "metadata": {},
   "outputs": [],
   "source": [
    "from datetime import datetime\n",
    "def notDuringTheNight(function):\n",
    "    def wrapper():\n",
    "        if 7 <= datetime.now().hour < 22:\n",
    "            function()\n",
    "        else:\n",
    "            pass\n",
    "def sayWheel():\n",
    "    print(\"Whee!\")\n",
    "sayWheel = notDuringTheNight(sayWheel)"
   ]
  },
  {
   "cell_type": "markdown",
   "id": "c94b05a6",
   "metadata": {},
   "source": [
    "# Nested Functions in Python"
   ]
  },
  {
   "cell_type": "code",
   "execution_count": 72,
   "id": "ec147357",
   "metadata": {},
   "outputs": [
    {
     "name": "stdout",
     "output_type": "stream",
     "text": [
      "Hi, Subena Khatun!\n"
     ]
    }
   ],
   "source": [
    "def greeting(first, last): # accept arguments\n",
    "  # nested helper function\n",
    "  def getFullName(): \n",
    "    return first + \" \" + last # inner function catch outer function values\n",
    "\n",
    "  print(\"Hi, \" + getFullName() + \"!\") # print inner function or you can return it\n",
    "\n",
    "greeting('Subena', 'Khatun') # pass parameter "
   ]
  },
  {
   "cell_type": "markdown",
   "id": "853b37ca",
   "metadata": {},
   "source": [
    "## 6. map function\n",
    "Map in Python is a function that works as an iterator to return a result after applying a function to every item of an iterable (tuple, lists, etc.). It is used when you want to apply a single transformation function to all the iterable elements. The iterable and function are passed as arguments to the map in Python.\n",
    "\n",
    "Python map() Function Syntax\n",
    "Syntax: map(fun, iter)\n",
    "\n",
    "Parameters:\n",
    "\n",
    "fun: It is a function to which map passes each element of given iterable.\n",
    "iter: It is iterable which is to be mapped."
   ]
  },
  {
   "cell_type": "code",
   "execution_count": null,
   "id": "7c8a89c1",
   "metadata": {},
   "outputs": [],
   "source": []
  },
  {
   "cell_type": "code",
   "execution_count": null,
   "id": "a3364b98",
   "metadata": {},
   "outputs": [],
   "source": []
  },
  {
   "cell_type": "code",
   "execution_count": null,
   "id": "cc18fad4",
   "metadata": {},
   "outputs": [],
   "source": []
  },
  {
   "cell_type": "code",
   "execution_count": null,
   "id": "aa00a4b0",
   "metadata": {},
   "outputs": [],
   "source": []
  },
  {
   "cell_type": "markdown",
   "id": "0ea97696",
   "metadata": {},
   "source": [
    "## 7. Filter Function"
   ]
  },
  {
   "cell_type": "code",
   "execution_count": null,
   "id": "401103b6",
   "metadata": {},
   "outputs": [],
   "source": []
  },
  {
   "cell_type": "code",
   "execution_count": null,
   "id": "fc7429c0",
   "metadata": {},
   "outputs": [],
   "source": []
  },
  {
   "cell_type": "code",
   "execution_count": null,
   "id": "055b2e7c",
   "metadata": {},
   "outputs": [],
   "source": []
  },
  {
   "cell_type": "markdown",
   "id": "ade9e098",
   "metadata": {},
   "source": [
    "## 8. Reduce function"
   ]
  },
  {
   "cell_type": "code",
   "execution_count": null,
   "id": "f7ffcb80",
   "metadata": {},
   "outputs": [],
   "source": []
  },
  {
   "cell_type": "code",
   "execution_count": null,
   "id": "b4c562d3",
   "metadata": {},
   "outputs": [],
   "source": []
  },
  {
   "cell_type": "code",
   "execution_count": null,
   "id": "75035104",
   "metadata": {},
   "outputs": [],
   "source": []
  },
  {
   "cell_type": "markdown",
   "id": "28ca2333",
   "metadata": {},
   "source": [
    "## 9. lambda function 11. anonymous function"
   ]
  },
  {
   "cell_type": "code",
   "execution_count": null,
   "id": "12ef071e",
   "metadata": {},
   "outputs": [],
   "source": []
  },
  {
   "cell_type": "code",
   "execution_count": null,
   "id": "4d7d7246",
   "metadata": {},
   "outputs": [],
   "source": []
  },
  {
   "cell_type": "code",
   "execution_count": null,
   "id": "0509e97e",
   "metadata": {},
   "outputs": [],
   "source": []
  },
  {
   "cell_type": "markdown",
   "id": "e1a0b41d",
   "metadata": {},
   "source": [
    "## 10. Recursion Function"
   ]
  },
  {
   "cell_type": "code",
   "execution_count": null,
   "id": "b8e1cbec",
   "metadata": {},
   "outputs": [],
   "source": []
  },
  {
   "cell_type": "code",
   "execution_count": null,
   "id": "25386266",
   "metadata": {},
   "outputs": [],
   "source": []
  },
  {
   "cell_type": "code",
   "execution_count": null,
   "id": "12559225",
   "metadata": {},
   "outputs": [],
   "source": []
  },
  {
   "cell_type": "markdown",
   "id": "49b8ca0e",
   "metadata": {},
   "source": [
    "## 12. global, local and non local "
   ]
  },
  {
   "cell_type": "code",
   "execution_count": null,
   "id": "0d97b809",
   "metadata": {},
   "outputs": [],
   "source": []
  },
  {
   "cell_type": "code",
   "execution_count": null,
   "id": "960eeb03",
   "metadata": {},
   "outputs": [],
   "source": []
  },
  {
   "cell_type": "code",
   "execution_count": null,
   "id": "1480e593",
   "metadata": {},
   "outputs": [],
   "source": []
  },
  {
   "cell_type": "markdown",
   "id": "5903373a",
   "metadata": {},
   "source": [
    "## 14. python modulus\n",
    "### 16. python package"
   ]
  },
  {
   "cell_type": "code",
   "execution_count": null,
   "id": "abb3dd7b",
   "metadata": {},
   "outputs": [],
   "source": []
  },
  {
   "cell_type": "code",
   "execution_count": null,
   "id": "e0a3b6c6",
   "metadata": {},
   "outputs": [],
   "source": []
  },
  {
   "cell_type": "code",
   "execution_count": null,
   "id": "a40c7f38",
   "metadata": {},
   "outputs": [],
   "source": []
  },
  {
   "cell_type": "code",
   "execution_count": null,
   "id": "40e57095",
   "metadata": {},
   "outputs": [],
   "source": []
  }
 ],
 "metadata": {
  "kernelspec": {
   "display_name": "Python 3 (ipykernel)",
   "language": "python",
   "name": "python3"
  },
  "language_info": {
   "codemirror_mode": {
    "name": "ipython",
    "version": 3
   },
   "file_extension": ".py",
   "mimetype": "text/x-python",
   "name": "python",
   "nbconvert_exporter": "python",
   "pygments_lexer": "ipython3",
   "version": "3.11.5"
  }
 },
 "nbformat": 4,
 "nbformat_minor": 5
}
