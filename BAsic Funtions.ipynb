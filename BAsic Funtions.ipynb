{
 "cells": [
  {
   "cell_type": "markdown",
   "id": "ce0cc963",
   "metadata": {},
   "source": [
    "# Define a function or Strure of a function\n",
    "* def functionaName(arguments):\n",
    "    * code thats we want to print\n",
    "    * return statement\n",
    "* callfunction(parameters)"
   ]
  },
  {
   "cell_type": "code",
   "execution_count": 1,
   "id": "10729ffc",
   "metadata": {},
   "outputs": [
    {
     "name": "stdout",
     "output_type": "stream",
     "text": [
      "My major is Data Science.\n"
     ]
    }
   ],
   "source": [
    "def department():\n",
    "    print(f\"My major is Data Science.\")\n",
    "department()"
   ]
  },
  {
   "cell_type": "code",
   "execution_count": 3,
   "id": "144dee4f",
   "metadata": {},
   "outputs": [
    {
     "data": {
      "text/plain": [
       "189"
      ]
     },
     "execution_count": 3,
     "metadata": {},
     "output_type": "execute_result"
    }
   ],
   "source": [
    "# parameters and argumantes with return\n",
    "def addNumberwithArguments(a,b):\n",
    "    result = a + b\n",
    "    return result\n",
    "addNumberwithArguments(100,89)"
   ]
  },
  {
   "cell_type": "code",
   "execution_count": 4,
   "id": "c332e4b4",
   "metadata": {},
   "outputs": [
    {
     "data": {
      "text/plain": [
       "11"
      ]
     },
     "execution_count": 4,
     "metadata": {},
     "output_type": "execute_result"
    }
   ],
   "source": [
    "addNumberwithArguments(5,6)"
   ]
  },
  {
   "cell_type": "code",
   "execution_count": 5,
   "id": "2166a0c7",
   "metadata": {},
   "outputs": [
    {
     "name": "stdout",
     "output_type": "stream",
     "text": [
      "5\n",
      "8\n",
      "9\n",
      "3\n"
     ]
    },
    {
     "data": {
      "text/plain": [
       "(5, 9, 8, 3)"
      ]
     },
     "execution_count": 5,
     "metadata": {},
     "output_type": "execute_result"
    }
   ],
   "source": [
    "def userInput():\n",
    "    x1 = int(input())\n",
    "    x2 = int(input())\n",
    "    y1 = int(input())\n",
    "    y2 = int(input())\n",
    "    return x1,y1,x2,y2\n",
    "userInput()"
   ]
  },
  {
   "cell_type": "code",
   "execution_count": 6,
   "id": "38f6383c",
   "metadata": {},
   "outputs": [
    {
     "name": "stdout",
     "output_type": "stream",
     "text": [
      "89\n",
      "85\n",
      "87\n",
      "86\n"
     ]
    },
    {
     "data": {
      "text/plain": [
       "((89, 87), (85, 86))"
      ]
     },
     "execution_count": 6,
     "metadata": {},
     "output_type": "execute_result"
    }
   ],
   "source": [
    "def userInput():\n",
    "    x1 = int(input())\n",
    "    x2 = int(input())\n",
    "    y1 = int(input())\n",
    "    y2 = int(input())\n",
    "    return (x1,y1),(x2,y2)\n",
    "userInput()"
   ]
  },
  {
   "cell_type": "code",
   "execution_count": 7,
   "id": "5df71460",
   "metadata": {},
   "outputs": [
    {
     "name": "stdout",
     "output_type": "stream",
     "text": [
      "x = 8\n",
      "y = 2\n"
     ]
    },
    {
     "data": {
      "text/plain": [
       "16"
      ]
     },
     "execution_count": 7,
     "metadata": {},
     "output_type": "execute_result"
    }
   ],
   "source": [
    "# funtion into functions\n",
    "def mul():\n",
    "    x = int(input(\"x = \"))\n",
    "    y = int(input(\"y = \"))\n",
    "    result = x * y\n",
    "    return result\n",
    "mul()"
   ]
  },
  {
   "cell_type": "code",
   "execution_count": 9,
   "id": "6aa4e82a",
   "metadata": {},
   "outputs": [
    {
     "name": "stdout",
     "output_type": "stream",
     "text": [
      "x = 5\n",
      "y = 3\n",
      "z = 2\n",
      "Final result =  30\n"
     ]
    }
   ],
   "source": [
    "def mul1():\n",
    "    total = mul()\n",
    "    z = int(input(\"z = \"))\n",
    "    total1 = total * z\n",
    "    print(\"Final result = \",total1)\n",
    "mul1()"
   ]
  },
  {
   "cell_type": "code",
   "execution_count": null,
   "id": "e8dde0fd",
   "metadata": {},
   "outputs": [],
   "source": []
  },
  {
   "cell_type": "code",
   "execution_count": null,
   "id": "d063ae78",
   "metadata": {},
   "outputs": [],
   "source": []
  },
  {
   "cell_type": "code",
   "execution_count": null,
   "id": "4fd06cef",
   "metadata": {},
   "outputs": [],
   "source": []
  },
  {
   "cell_type": "code",
   "execution_count": null,
   "id": "e1ce184b",
   "metadata": {},
   "outputs": [],
   "source": []
  },
  {
   "cell_type": "code",
   "execution_count": null,
   "id": "de09360b",
   "metadata": {},
   "outputs": [],
   "source": []
  },
  {
   "cell_type": "code",
   "execution_count": null,
   "id": "f55a47b8",
   "metadata": {},
   "outputs": [],
   "source": []
  },
  {
   "cell_type": "code",
   "execution_count": null,
   "id": "4c2fdf5a",
   "metadata": {},
   "outputs": [],
   "source": []
  },
  {
   "cell_type": "code",
   "execution_count": null,
   "id": "63e39668",
   "metadata": {},
   "outputs": [],
   "source": []
  },
  {
   "cell_type": "code",
   "execution_count": null,
   "id": "ca2e76b4",
   "metadata": {},
   "outputs": [],
   "source": []
  },
  {
   "cell_type": "code",
   "execution_count": null,
   "id": "c2afd8da",
   "metadata": {},
   "outputs": [],
   "source": []
  },
  {
   "cell_type": "code",
   "execution_count": null,
   "id": "587140aa",
   "metadata": {},
   "outputs": [],
   "source": []
  }
 ],
 "metadata": {
  "kernelspec": {
   "display_name": "Python 3 (ipykernel)",
   "language": "python",
   "name": "python3"
  },
  "language_info": {
   "codemirror_mode": {
    "name": "ipython",
    "version": 3
   },
   "file_extension": ".py",
   "mimetype": "text/x-python",
   "name": "python",
   "nbconvert_exporter": "python",
   "pygments_lexer": "ipython3",
   "version": "3.11.5"
  }
 },
 "nbformat": 4,
 "nbformat_minor": 5
}
