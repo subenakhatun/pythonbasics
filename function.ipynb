{
 "cells": [
  {
   "cell_type": "markdown",
   "id": "111f271e",
   "metadata": {},
   "source": [
    "# Creating a Function in Python\n",
    "We can define a function in Python, using the def keyword. We can add any type of functionalities and properties to it as we require."
   ]
  },
  {
   "cell_type": "code",
   "execution_count": 1,
   "id": "dc93dbd0",
   "metadata": {},
   "outputs": [
    {
     "name": "stdout",
     "output_type": "stream",
     "text": [
      "My name is Subena\n"
     ]
    }
   ],
   "source": [
    "# A simple Python function \n",
    "def name():\n",
    "    print(\"My name is Subena\")\n",
    "name()"
   ]
  },
  {
   "cell_type": "code",
   "execution_count": 2,
   "id": "f42d3f70",
   "metadata": {},
   "outputs": [
    {
     "name": "stdout",
     "output_type": "stream",
     "text": [
      "My name is Subena\n"
     ]
    }
   ],
   "source": [
    "# Calling a  Python Function\n",
    "name()"
   ]
  },
  {
   "cell_type": "markdown",
   "id": "2a5a60e1",
   "metadata": {},
   "source": [
    "# Defining and calling a function with parameters\n",
    "* def function_name(parameter: data_type) -> return_type:\n",
    "    * \"\"\"Docstring\"\"\"\n",
    "    * # body of the function\n",
    "    * return expression"
   ]
  },
  {
   "cell_type": "code",
   "execution_count": 3,
   "id": "39c2d2f5",
   "metadata": {},
   "outputs": [
    {
     "name": "stdout",
     "output_type": "stream",
     "text": [
      "9\n"
     ]
    }
   ],
   "source": [
    "# add two numbers using with parameter and arguments\n",
    "def addTwoNumber(num1: int, num2: int):\n",
    "    add = num1 + num2\n",
    "    return add\n",
    "num1,num2 = 4,5\n",
    "answer = addTwoNumber(num1,num2)\n",
    "print(answer)"
   ]
  },
  {
   "cell_type": "code",
   "execution_count": 4,
   "id": "54ce8450",
   "metadata": {},
   "outputs": [
    {
     "name": "stdout",
     "output_type": "stream",
     "text": [
      "104\n"
     ]
    }
   ],
   "source": [
    "def addTwoNumber(num1: int, num2: int):\n",
    "    add = num1 + num2\n",
    "    return add\n",
    "answer = addTwoNumber(8,96)\n",
    "print(answer)"
   ]
  },
  {
   "cell_type": "code",
   "execution_count": 5,
   "id": "8df791df",
   "metadata": {},
   "outputs": [
    {
     "name": "stdout",
     "output_type": "stream",
     "text": [
      "185\n"
     ]
    }
   ],
   "source": [
    "answer = addTwoNumber(89,96)\n",
    "print(answer)"
   ]
  },
  {
   "cell_type": "code",
   "execution_count": 6,
   "id": "2619fd99",
   "metadata": {},
   "outputs": [
    {
     "name": "stdout",
     "output_type": "stream",
     "text": [
      "False False\n"
     ]
    }
   ],
   "source": [
    "# check a number is prime or not\n",
    "# prime number: A prime number is a whole number greater than 1 whose only factors are 1 and itself.\n",
    "def prime(n):\n",
    "    if n is [2,3]:\n",
    "        return True\n",
    "    if (n == 1) or (n % 2 == 0):\n",
    "        return False\n",
    "    r = 3\n",
    "    while r * r <= n:\n",
    "        if n % r == 0:\n",
    "            return False\n",
    "        r += 2\n",
    "    return True\n",
    "print(prime(50), prime(52))"
   ]
  },
  {
   "cell_type": "code",
   "execution_count": 7,
   "id": "c45618d5",
   "metadata": {},
   "outputs": [
    {
     "data": {
      "text/plain": [
       "'Odd'"
      ]
     },
     "execution_count": 7,
     "metadata": {},
     "output_type": "execute_result"
    }
   ],
   "source": [
    "# Python Function Arguments\n",
    "# whether x is even or odd\n",
    "def evenOdd(x):\n",
    "    if x % 2 == 1:\n",
    "        return \"Odd\"\n",
    "    else:\n",
    "        return \"even\"\n",
    "evenOdd(3)"
   ]
  },
  {
   "cell_type": "code",
   "execution_count": 8,
   "id": "3601387c",
   "metadata": {},
   "outputs": [
    {
     "data": {
      "text/plain": [
       "'even'"
      ]
     },
     "execution_count": 8,
     "metadata": {},
     "output_type": "execute_result"
    }
   ],
   "source": [
    "evenOdd(12)"
   ]
  },
  {
   "cell_type": "markdown",
   "id": "16c925fa",
   "metadata": {},
   "source": [
    "# Default Arguments \n",
    "A default argument is a parameter that assumes a default value if a value is not provided in the function call for that argument. The following example illustrates Default argument"
   ]
  },
  {
   "cell_type": "code",
   "execution_count": 9,
   "id": "a0017a5b",
   "metadata": {},
   "outputs": [
    {
     "data": {
      "text/plain": [
       "11"
      ]
     },
     "execution_count": 9,
     "metadata": {},
     "output_type": "execute_result"
    }
   ],
   "source": [
    "def twoNumberPrint(x, y = 50):\n",
    "    add = x + y\n",
    "    return add\n",
    "twoNumberPrint(5,6)"
   ]
  },
  {
   "cell_type": "code",
   "execution_count": 10,
   "id": "734a3793",
   "metadata": {},
   "outputs": [
    {
     "data": {
      "text/plain": [
       "60"
      ]
     },
     "execution_count": 10,
     "metadata": {},
     "output_type": "execute_result"
    }
   ],
   "source": [
    "twoNumberPrint(10)"
   ]
  },
  {
   "cell_type": "markdown",
   "id": "190e7580",
   "metadata": {},
   "source": [
    "# Keyword Arguments\n",
    "The idea is to allow the caller to specify the argument name with values so that the caller does not need to remember the order of parameters."
   ]
  },
  {
   "cell_type": "code",
   "execution_count": 11,
   "id": "40a3420f",
   "metadata": {},
   "outputs": [
    {
     "name": "stdout",
     "output_type": "stream",
     "text": [
      "First person name is Subena and 2nd person name is Doha\n"
     ]
    }
   ],
   "source": [
    "def twoPepleName(name1,name2):\n",
    "    print(f\"First person name is {name1.title()} and 2nd person name is {name2.title()}\")\n",
    "twoPepleName(name1 = \"subena\",name2 = \"doha\")"
   ]
  },
  {
   "cell_type": "markdown",
   "id": "f0067edd",
   "metadata": {},
   "source": [
    "# Positional Arguments\n",
    "We used the Position argument during the function call so that the first argument (or value) is assigned to name and the second argument (or value) is assigned to age. By changing the position, or if you forget the order of the positions, the values can be used in the wrong places, as shown in the Case-2 example below, where 27 is assigned to the name and Suraj is assigned to the age."
   ]
  },
  {
   "cell_type": "code",
   "execution_count": 12,
   "id": "0e4df47a",
   "metadata": {},
   "outputs": [
    {
     "name": "stdout",
     "output_type": "stream",
     "text": [
      "My name is subena and my age is 30\n"
     ]
    }
   ],
   "source": [
    "def nameAge(name,age):\n",
    "    print(f\"My name is {name} and my age is {age}\")\n",
    "nameAge(\"subena\", 30)"
   ]
  },
  {
   "cell_type": "code",
   "execution_count": 13,
   "id": "288175f7",
   "metadata": {},
   "outputs": [
    {
     "name": "stdout",
     "output_type": "stream",
     "text": [
      "My name is 30 and my age is subena\n"
     ]
    }
   ],
   "source": [
    "nameAge(30, \"subena\")"
   ]
  },
  {
   "cell_type": "markdown",
   "id": "f7b2e213",
   "metadata": {},
   "source": [
    "# Arbitrary Keyword  Arguments\n",
    "In Python Arbitrary Keyword Arguments, *args, and **kwargs can pass a variable number of arguments to a function using special symbols. There are two special symbols:\n",
    "\n",
    "*args in Python (Non-Keyword Arguments)\n",
    "**kwargs in Python (Keyword Arguments)"
   ]
  },
  {
   "cell_type": "code",
   "execution_count": 14,
   "id": "8ec3417d",
   "metadata": {},
   "outputs": [
    {
     "name": "stdout",
     "output_type": "stream",
     "text": [
      "2\n",
      "8\n",
      "9\n",
      "7\n",
      "3\n"
     ]
    }
   ],
   "source": [
    "# pass any list then print it\n",
    "def values(*argv):\n",
    "    for value in argv:\n",
    "        print(value)\n",
    "    \n",
    "number = [2,8,9,7,3]\n",
    "values(2,8,9,7,3)"
   ]
  },
  {
   "cell_type": "code",
   "execution_count": 15,
   "id": "768408f3",
   "metadata": {},
   "outputs": [
    {
     "name": "stdout",
     "output_type": "stream",
     "text": [
      "first == subena\n",
      "mid == Dhoha's\n",
      "last == MOM\n"
     ]
    }
   ],
   "source": [
    "# Variable length keyword arguments . python dictionary\n",
    "def myFun(**kwargs):\n",
    "    for key, value in kwargs.items():\n",
    "        print(\"%s == %s\" % (key, value))\n",
    "myFun(first='subena', mid=\"Dhoha's\", last='MOM')"
   ]
  },
  {
   "cell_type": "markdown",
   "id": "a6790e4c",
   "metadata": {},
   "source": [
    "# Docstring \n",
    "The first string after the function is called the Document string or Docstring in short. This is used to describe the functionality of the function. The use of docstring in functions is optional but it is considered a good practice\n",
    "* Syntax: print(function_name.__doc__)"
   ]
  },
  {
   "cell_type": "code",
   "execution_count": 16,
   "id": "01d17644",
   "metadata": {},
   "outputs": [
    {
     "name": "stdout",
     "output_type": "stream",
     "text": [
      "add two numbers and return it\n"
     ]
    }
   ],
   "source": [
    "def twoNumberPrint(x, y = 50):\n",
    "    \"\"\"add two numbers and return it\"\"\"\n",
    "    add = x + y\n",
    "    return add\n",
    "twoNumberPrint(5,6)\n",
    "print(twoNumberPrint.__doc__)"
   ]
  },
  {
   "cell_type": "markdown",
   "id": "0a442ad9",
   "metadata": {},
   "source": [
    "# Python Function within Functions\n",
    "A function that is defined inside another function is known as the inner function or nested function. Nested functions can access variables of the enclosing scope. Inner functions are used so that they can be protected from everything happening outside the function."
   ]
  },
  {
   "cell_type": "code",
   "execution_count": 17,
   "id": "c19cbd48",
   "metadata": {},
   "outputs": [
    {
     "name": "stdout",
     "output_type": "stream",
     "text": [
      "5\n",
      "5\n"
     ]
    },
    {
     "data": {
      "text/plain": [
       "10"
      ]
     },
     "execution_count": 17,
     "metadata": {},
     "output_type": "execute_result"
    }
   ],
   "source": [
    "# add two number then numltiply this number with another number another function\n",
    "def addNumber():\n",
    "    x = int(input())\n",
    "    y = int(input())\n",
    "    add = x + y\n",
    "    return add\n",
    "addNumber()"
   ]
  },
  {
   "cell_type": "code",
   "execution_count": 18,
   "id": "9ab489a0",
   "metadata": {},
   "outputs": [
    {
     "name": "stdout",
     "output_type": "stream",
     "text": [
      "5\n",
      "5\n",
      "5\n",
      "Final result: 50\n"
     ]
    }
   ],
   "source": [
    "def mulp():\n",
    "    total = addNumber()\n",
    "    z = int(input())\n",
    "    mul = total * z\n",
    "    print(\"Final result:\", mul)\n",
    "mulp()"
   ]
  },
  {
   "cell_type": "markdown",
   "id": "48e98c3c",
   "metadata": {},
   "source": [
    "# Anonymous Functions in Python\n",
    "In Python, an anonymous function means that a function is without a name. As we already know the def keyword is used to define the normal functions and the lambda keyword is used to create anonymous functions."
   ]
  },
  {
   "cell_type": "code",
   "execution_count": 19,
   "id": "5f647df1",
   "metadata": {},
   "outputs": [
    {
     "name": "stdout",
     "output_type": "stream",
     "text": [
      "343\n",
      "343\n"
     ]
    }
   ],
   "source": [
    "def cube(x): return x*x*x\n",
    " \n",
    "cube_v2 = lambda x : x*x*x\n",
    " \n",
    "print(cube(7))\n",
    "print(cube_v2(7))"
   ]
  },
  {
   "cell_type": "code",
   "execution_count": 20,
   "id": "77bd6eb9",
   "metadata": {},
   "outputs": [
    {
     "data": {
      "text/plain": [
       "'subena'"
      ]
     },
     "execution_count": 20,
     "metadata": {},
     "output_type": "execute_result"
    }
   ],
   "source": [
    "name = lambda name: name\n",
    "name(\"subena\")"
   ]
  },
  {
   "cell_type": "markdown",
   "id": "62c04337",
   "metadata": {},
   "source": [
    "# Recursive Functions in Python\n",
    "Recursion in Python refers to when a function calls itself. There are many instances when you have to build a recursive function to solve Mathematical and Recursive Problems.\n",
    "\n",
    "Using a recursive function should be done with caution, as a recursive function can become like a non-terminating loop. It is better to check your exit statement while creating a recursive function."
   ]
  },
  {
   "cell_type": "code",
   "execution_count": 21,
   "id": "45acddf7",
   "metadata": {},
   "outputs": [
    {
     "name": "stdout",
     "output_type": "stream",
     "text": [
      "120\n"
     ]
    }
   ],
   "source": [
    "def fact(n):\n",
    "    if n == 0:  \n",
    "        return 1\n",
    "    else:\n",
    "        return n * fact(n - 1) \n",
    "       \n",
    "print(fact(5))"
   ]
  },
  {
   "cell_type": "markdown",
   "id": "bddeb549",
   "metadata": {},
   "source": [
    "# Return Statement in Python Function\n",
    "The function return statement is used to exit from a function and go back to the function caller and return the specified value or data item to the caller. The syntax for the return statement is:\n",
    "* return [expression_list]"
   ]
  },
  {
   "cell_type": "code",
   "execution_count": 22,
   "id": "5f4b214e",
   "metadata": {},
   "outputs": [
    {
     "data": {
      "text/plain": [
       "16"
      ]
     },
     "execution_count": 22,
     "metadata": {},
     "output_type": "execute_result"
    }
   ],
   "source": [
    "# square a value then return \n",
    "def squreAnumber(x):\n",
    "    return x**2\n",
    "squreAnumber(4)"
   ]
  },
  {
   "cell_type": "code",
   "execution_count": 23,
   "id": "ee6f7a79",
   "metadata": {},
   "outputs": [
    {
     "data": {
      "text/plain": [
       "36"
      ]
     },
     "execution_count": 23,
     "metadata": {},
     "output_type": "execute_result"
    }
   ],
   "source": [
    "squreAnumber(6)"
   ]
  },
  {
   "cell_type": "code",
   "execution_count": 24,
   "id": "21136787",
   "metadata": {},
   "outputs": [
    {
     "data": {
      "text/plain": [
       "100"
      ]
     },
     "execution_count": 24,
     "metadata": {},
     "output_type": "execute_result"
    }
   ],
   "source": [
    "squreAnumber(10)"
   ]
  },
  {
   "cell_type": "markdown",
   "id": "d44d7074",
   "metadata": {},
   "source": [
    "# Pass by Reference and Pass by Value\n",
    "One important thing to note is, in Python every variable name is a reference. When we pass a variable to a function, a new reference to the object is created. Parameter passing in Python is the same as reference passing in Java."
   ]
  },
  {
   "cell_type": "code",
   "execution_count": 25,
   "id": "fa21a0cc",
   "metadata": {},
   "outputs": [
    {
     "name": "stdout",
     "output_type": "stream",
     "text": [
      "[12, 8, 9, 6, 898, 20]\n"
     ]
    }
   ],
   "source": [
    "# add any number into a list using function.\n",
    "def aList(a):\n",
    "    a[0] = 12\n",
    "    a[4] = 898\n",
    "number = [7,8,9,6,3,20]\n",
    "listnumber = aList(number)\n",
    "print(number)"
   ]
  },
  {
   "cell_type": "code",
   "execution_count": 26,
   "id": "b68c4823",
   "metadata": {},
   "outputs": [
    {
     "data": {
      "text/plain": [
       "(7, 4)"
      ]
     },
     "execution_count": 26,
     "metadata": {},
     "output_type": "execute_result"
    }
   ],
   "source": [
    "# swap 2 number\n",
    "def swapnumber(x,y):\n",
    "    tem = x # put x value in to tem\n",
    "    x = y # then change x value eith y value\n",
    "    y = tem # change y value with tem\n",
    "    return x,y\n",
    "swapnumber(4,7)"
   ]
  },
  {
   "cell_type": "markdown",
   "id": "6bc99f06",
   "metadata": {},
   "source": [
    "# Mathematical Functions in Python | Set 1 (Numeric Functions)\n",
    "* 1. ceil() :- This function returns the smallest integral value greater than the number. If number is already integer, same number is returned. \n",
    "* 2. floor() :- This function returns the greatest integral value smaller than the number. If number is already integer, same number is returned. \n",
    "* 3. fabs() :- This function returns the absolute value of the number. \n",
    "* 4. factorial() :- This function returns the factorial of the number. An error message is displayed if number is not integral.\n",
    "* 5. copysign(a, b) :- This function returns the number with the value of ‘a’ but with the sign of ‘b’. The returned value is float type. \n",
    "* 6. gcd() :- This function is used to compute the greatest common divisor of 2 numbers mentioned in its arguments."
   ]
  },
  {
   "cell_type": "code",
   "execution_count": 27,
   "id": "493b58cd",
   "metadata": {},
   "outputs": [
    {
     "name": "stdout",
     "output_type": "stream",
     "text": [
      "21\n"
     ]
    }
   ],
   "source": [
    "# ceils\n",
    "import math\n",
    "number = 20.54957\n",
    "print(math.ceil(number))"
   ]
  },
  {
   "cell_type": "code",
   "execution_count": 28,
   "id": "49f9842a",
   "metadata": {},
   "outputs": [
    {
     "name": "stdout",
     "output_type": "stream",
     "text": [
      "20\n"
     ]
    }
   ],
   "source": [
    "print(math.floor(number))"
   ]
  },
  {
   "cell_type": "code",
   "execution_count": 29,
   "id": "7ce8bf9b",
   "metadata": {},
   "outputs": [
    {
     "name": "stdout",
     "output_type": "stream",
     "text": [
      "4.0\n"
     ]
    }
   ],
   "source": [
    "number1 = int(4)\n",
    "print(math.fabs(number1))"
   ]
  },
  {
   "cell_type": "code",
   "execution_count": 30,
   "id": "b38a2a3a",
   "metadata": {},
   "outputs": [
    {
     "name": "stdout",
     "output_type": "stream",
     "text": [
      "24\n"
     ]
    }
   ],
   "source": [
    "print(math.factorial(number1))"
   ]
  },
  {
   "cell_type": "code",
   "execution_count": 31,
   "id": "0b7a6b33",
   "metadata": {},
   "outputs": [
    {
     "name": "stdout",
     "output_type": "stream",
     "text": [
      "2\n"
     ]
    }
   ],
   "source": [
    "print(math.gcd(10,number1))"
   ]
  },
  {
   "cell_type": "markdown",
   "id": "5c6f57a0",
   "metadata": {},
   "source": [
    "# Mathematical Functions in Python | Set 2 (Logarithmic and Power Functions)\n",
    "* 1. exp(a) :- This function returns the value of e raised to the power a (e**a) . \n",
    "* 2. log(a, b) :- This function returns the logarithmic value of a with base b. If base is not mentioned, the computed value is of natural log. \n",
    "* 3. log2(a) :- This function computes value of log a with base 2. This value is more accurate than the value of the function discussed above. \n",
    "* 4. log10(a) :- This function computes value of log a with base 10. This value is more accurate than the value of the function discussed above.\n",
    "* 5. pow(a, b) :- This function is used to compute value of a raised to the power b (a**b). \n",
    "* 6. sqrt() :- This function returns the square root of the number. "
   ]
  },
  {
   "cell_type": "code",
   "execution_count": 32,
   "id": "fda89c2c",
   "metadata": {},
   "outputs": [
    {
     "name": "stdout",
     "output_type": "stream",
     "text": [
      "Enter a number: 5\n",
      "148.4131591025766\n"
     ]
    }
   ],
   "source": [
    "a = int(input(\"Enter a number: \"))\n",
    "# find exp of a\n",
    "print(math.exp(a))"
   ]
  },
  {
   "cell_type": "code",
   "execution_count": 34,
   "id": "4e1a13b4",
   "metadata": {},
   "outputs": [
    {
     "name": "stdout",
     "output_type": "stream",
     "text": [
      "5\n"
     ]
    }
   ],
   "source": [
    "b = int(input())"
   ]
  },
  {
   "cell_type": "code",
   "execution_count": 35,
   "id": "95775c0d",
   "metadata": {},
   "outputs": [
    {
     "name": "stdout",
     "output_type": "stream",
     "text": [
      "1.0\n"
     ]
    }
   ],
   "source": [
    "# base and power given for logarithm\n",
    "print(math.log(a,b))"
   ]
  },
  {
   "cell_type": "code",
   "execution_count": 36,
   "id": "4746b1ab",
   "metadata": {},
   "outputs": [
    {
     "name": "stdout",
     "output_type": "stream",
     "text": [
      "2.321928094887362\n"
     ]
    }
   ],
   "source": [
    "# 2 base logarithm\n",
    "print(math.log2(a))"
   ]
  },
  {
   "cell_type": "code",
   "execution_count": 37,
   "id": "4ad46fef",
   "metadata": {},
   "outputs": [
    {
     "name": "stdout",
     "output_type": "stream",
     "text": [
      "0.47712125471966244\n"
     ]
    }
   ],
   "source": [
    "# 10 base logarith\n",
    "print(math.log10(3))"
   ]
  },
  {
   "cell_type": "code",
   "execution_count": 39,
   "id": "e8912157",
   "metadata": {},
   "outputs": [
    {
     "name": "stdout",
     "output_type": "stream",
     "text": [
      "64.0\n"
     ]
    }
   ],
   "source": [
    "# find power of the number \n",
    "print(math.pow(4,3))"
   ]
  },
  {
   "cell_type": "code",
   "execution_count": 40,
   "id": "b4e316c1",
   "metadata": {},
   "outputs": [
    {
     "name": "stdout",
     "output_type": "stream",
     "text": [
      "2.0\n"
     ]
    }
   ],
   "source": [
    "# find sqrt for a number\n",
    "print(math.sqrt(4))"
   ]
  },
  {
   "cell_type": "markdown",
   "id": "ff3490f3",
   "metadata": {},
   "source": [
    "# Mathematical Functions in Python | Set 3 (Trigonometric and Angular Functions)\n",
    "1. sin() :- This function returns the sine of value passed as argument. The value passed in this function should be in radians.\n",
    "2. cos() :- This function returns the cosine of value passed as argument. The value passed in this function should be in radians.\n",
    "3. tan() :- This function returns the tangent of value passed as argument. The value passed in this function should be in radians.\n",
    "\n",
    "4. hypot(a, b) :- This returns the hypotenuse of the values passed in arguments. Numerically, it returns the value of sqrt(a*a + b*b)."
   ]
  },
  {
   "cell_type": "code",
   "execution_count": 41,
   "id": "e8e17654",
   "metadata": {},
   "outputs": [
    {
     "name": "stdout",
     "output_type": "stream",
     "text": [
      "0.6569865987187891\n"
     ]
    }
   ],
   "source": [
    "tri = 7\n",
    "print(math.sin(tri))"
   ]
  },
  {
   "cell_type": "code",
   "execution_count": 42,
   "id": "0510d62b",
   "metadata": {},
   "outputs": [
    {
     "name": "stdout",
     "output_type": "stream",
     "text": [
      "0.7539022543433046\n"
     ]
    }
   ],
   "source": [
    "print(math.cos(tri))"
   ]
  },
  {
   "cell_type": "code",
   "execution_count": 43,
   "id": "0fa1fa0e",
   "metadata": {},
   "outputs": [
    {
     "name": "stdout",
     "output_type": "stream",
     "text": [
      "1.1578212823495777\n"
     ]
    }
   ],
   "source": [
    "tri1 = 3\n",
    "print(math.tan(4))"
   ]
  },
  {
   "cell_type": "code",
   "execution_count": 44,
   "id": "a3cbca06",
   "metadata": {},
   "outputs": [
    {
     "name": "stdout",
     "output_type": "stream",
     "text": [
      "7.615773105863909\n"
     ]
    }
   ],
   "source": [
    "print(math.hypot(tri,tri1))"
   ]
  },
  {
   "cell_type": "markdown",
   "id": "6d80bb3d",
   "metadata": {},
   "source": [
    "# Mathematical Functions in Python | Set 4 (Special Functions and Constants)\n",
    "1. gamma() :- This function is used to return the gamma function of the argument.\n",
    "2. pi :- This is an inbuilt constant that outputs the value of pi(3.141592).\n",
    "3. e :- This is an inbuilt constant that outputs the value of e(2.718281).\n",
    "4. inf :- This is a positive floating point infinity constant. -inf is used to denote the negative floating point infinity. This constant is defined in python 3.5 and above.\n",
    "5. isinf() :- This function is used to check whether the value is an infinity or not.\n",
    "6. nan :- This constant denotes “Not a number” in python. This constant is defined in python 3.5 and above.\n",
    "7. isnan() :- This function returns true if the number is “nan” else returns false."
   ]
  },
  {
   "cell_type": "code",
   "execution_count": 45,
   "id": "35dc7531",
   "metadata": {},
   "outputs": [
    {
     "name": "stdout",
     "output_type": "stream",
     "text": [
      "24.0\n"
     ]
    }
   ],
   "source": [
    "n=5\n",
    "print (math.gamma(n)) "
   ]
  },
  {
   "cell_type": "code",
   "execution_count": 46,
   "id": "dad2bcd5",
   "metadata": {},
   "outputs": [
    {
     "name": "stdout",
     "output_type": "stream",
     "text": [
      "3.141592653589793\n"
     ]
    }
   ],
   "source": [
    "print (math.pi) "
   ]
  },
  {
   "cell_type": "code",
   "execution_count": 47,
   "id": "d86485e9",
   "metadata": {},
   "outputs": [
    {
     "name": "stdout",
     "output_type": "stream",
     "text": [
      "2.718281828459045\n"
     ]
    }
   ],
   "source": [
    "print (math.e)"
   ]
  },
  {
   "cell_type": "markdown",
   "id": "47ae49e3",
   "metadata": {},
   "source": [
    "# Time Functions in Python | Set 1 (time(), ctime(), sleep()…)\n",
    "1. Python time() function is used to count the number of seconds elapsed since the epoch.Python \n",
    "2. time.gmtime() Function \n",
    "3. Python time.asctime() and time.ctime() Function \n",
    "4. Python time.sleep() Function \n",
    "5. Python time.mktime() Function \n",
    "6. Python time.localtime() Function \n",
    "7. Python time.strftime() Function"
   ]
  },
  {
   "cell_type": "code",
   "execution_count": 49,
   "id": "c7874351",
   "metadata": {},
   "outputs": [
    {
     "name": "stdout",
     "output_type": "stream",
     "text": [
      "1711663643.5711021\n"
     ]
    }
   ],
   "source": [
    "import time\n",
    "print(time.time())"
   ]
  },
  {
   "cell_type": "code",
   "execution_count": 50,
   "id": "677ef628",
   "metadata": {},
   "outputs": [
    {
     "name": "stdout",
     "output_type": "stream",
     "text": [
      "time.struct_time(tm_year=2024, tm_mon=3, tm_mday=28, tm_hour=22, tm_min=7, tm_sec=42, tm_wday=3, tm_yday=88, tm_isdst=0)\n"
     ]
    }
   ],
   "source": [
    "print(time.gmtime())"
   ]
  },
  {
   "cell_type": "code",
   "execution_count": 51,
   "id": "4c18e73e",
   "metadata": {},
   "outputs": [
    {
     "data": {
      "text/plain": [
       "'Fri Mar 29 04:08:47 2024'"
      ]
     },
     "execution_count": 51,
     "metadata": {},
     "output_type": "execute_result"
    }
   ],
   "source": [
    "time.asctime()"
   ]
  },
  {
   "cell_type": "code",
   "execution_count": 52,
   "id": "408e3413",
   "metadata": {},
   "outputs": [
    {
     "data": {
      "text/plain": [
       "'Fri Mar 29 04:09:02 2024'"
      ]
     },
     "execution_count": 52,
     "metadata": {},
     "output_type": "execute_result"
    }
   ],
   "source": [
    "time.ctime()"
   ]
  },
  {
   "cell_type": "code",
   "execution_count": 56,
   "id": "9a1d9e0c",
   "metadata": {},
   "outputs": [
    {
     "name": "stdout",
     "output_type": "stream",
     "text": [
      "None\n"
     ]
    }
   ],
   "source": [
    "print(time.sleep(7))"
   ]
  },
  {
   "cell_type": "code",
   "execution_count": 57,
   "id": "6a2bb34f",
   "metadata": {},
   "outputs": [
    {
     "data": {
      "text/plain": [
       "time.struct_time(tm_year=2024, tm_mon=3, tm_mday=29, tm_hour=4, tm_min=9, tm_sec=45, tm_wday=4, tm_yday=89, tm_isdst=0)"
      ]
     },
     "execution_count": 57,
     "metadata": {},
     "output_type": "execute_result"
    }
   ],
   "source": [
    "time.localtime()"
   ]
  },
  {
   "cell_type": "code",
   "execution_count": null,
   "id": "12bb62a7",
   "metadata": {},
   "outputs": [],
   "source": []
  }
 ],
 "metadata": {
  "kernelspec": {
   "display_name": "Python 3 (ipykernel)",
   "language": "python",
   "name": "python3"
  },
  "language_info": {
   "codemirror_mode": {
    "name": "ipython",
    "version": 3
   },
   "file_extension": ".py",
   "mimetype": "text/x-python",
   "name": "python",
   "nbconvert_exporter": "python",
   "pygments_lexer": "ipython3",
   "version": "3.11.5"
  }
 },
 "nbformat": 4,
 "nbformat_minor": 5
}
